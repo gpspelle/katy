{
 "cells": [
  {
   "cell_type": "code",
   "execution_count": 6,
   "metadata": {},
   "outputs": [],
   "source": [
    "import users_mgt as um"
   ]
  },
  {
   "cell_type": "code",
   "execution_count": 2,
   "metadata": {},
   "outputs": [],
   "source": []
  },
  {
   "cell_type": "code",
   "execution_count": 4,
   "metadata": {},
   "outputs": [],
   "source": []
  },
  {
   "cell_type": "code",
   "execution_count": 7,
   "metadata": {},
   "outputs": [
    {
     "name": "stdout",
     "output_type": "stream",
     "text": [
      "('thomas', 't.fillon@majelan.audio')\n",
      "('julia', 'j.ayme@majelan.audio')\n",
      "('gabriel', 'g.szanto@majelan.audio')\n",
      "('arthur', 'a.perticoz@majelan.audio')\n",
      "('emma', 'e.fellous@majelan.audio')\n",
      "('cannelle', 'c.favier@majelan.audio')\n",
      "('epv', 'epv@majelan.audio')\n",
      "('ludovic', 'l.bostral@majelan.audio')\n",
      "('david', 'd.balagna@majelan.audio')\n",
      "('mathieu', 'm.gallet@majelan.audio')\n",
      "('margaux', 'm.grancher@majelan.audio')\n",
      "('greg', 'g.renard@majelan.audio')\n",
      "('test', 'test@test.com')\n"
     ]
    }
   ],
   "source": [
    "um.show_users()"
   ]
  },
  {
   "cell_type": "code",
   "execution_count": 6,
   "metadata": {},
   "outputs": [],
   "source": [
    "um.del_user('test')"
   ]
  },
  {
   "cell_type": "code",
   "execution_count": null,
   "metadata": {},
   "outputs": [],
   "source": []
  }
 ],
 "metadata": {
  "kernelspec": {
   "display_name": "Python 3",
   "language": "python",
   "name": "python3"
  },
  "language_info": {
   "codemirror_mode": {
    "name": "ipython",
    "version": 3
   },
   "file_extension": ".py",
   "mimetype": "text/x-python",
   "name": "python",
   "nbconvert_exporter": "python",
   "pygments_lexer": "ipython3",
   "version": "3.6.9"
  }
 },
 "nbformat": 4,
 "nbformat_minor": 2
}
